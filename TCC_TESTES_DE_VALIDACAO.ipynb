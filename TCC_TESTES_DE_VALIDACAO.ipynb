{
 "cells": [
  {
   "cell_type": "markdown",
   "id": "6a460cd0",
   "metadata": {},
   "source": [
    "# Testes de Validação\n",
    "\n",
    "### Aqui serão apresentados os testes da solução desenvolvida, confrontando os dados apresentados no dashboard com consultas independentes realizadas na base de dados de origem."
   ]
  },
  {
   "cell_type": "markdown",
   "id": "f3d086a7",
   "metadata": {},
   "source": [
    "# Imports:"
   ]
  },
  {
   "cell_type": "code",
   "execution_count": 1,
   "id": "4fdaa657",
   "metadata": {},
   "outputs": [],
   "source": [
    "# Importando bibliotecas necessárias\n",
    "import os\n",
    "import pandas as pd"
   ]
  },
  {
   "cell_type": "markdown",
   "id": "179c7411",
   "metadata": {},
   "source": [
    "# Configuração:"
   ]
  },
  {
   "cell_type": "code",
   "execution_count": 2,
   "id": "9ba9a593",
   "metadata": {},
   "outputs": [],
   "source": [
    "# Diretório onde os arquivos CSV estão armazenados\n",
    "diretorio = 'C:/Users/user/OneDrive/Documentos/Pós Graduação/TCC2/Base de dados'"
   ]
  },
  {
   "cell_type": "code",
   "execution_count": 3,
   "id": "92c056f2",
   "metadata": {},
   "outputs": [],
   "source": [
    "# Lista para armazenar todos os DataFrames carregados dos arquivos CSV\n",
    "dataframes = []"
   ]
  },
  {
   "cell_type": "markdown",
   "id": "8580185d",
   "metadata": {},
   "source": [
    "# Pré tratamento dos Dados:"
   ]
  },
  {
   "cell_type": "code",
   "execution_count": 4,
   "id": "f2417ad0",
   "metadata": {},
   "outputs": [],
   "source": [
    "# Loop através dos arquivos no diretório\n",
    "for filename in os.listdir(diretorio):\n",
    "    if filename.endswith('.csv'):\n",
    "        # Caminho completo do arquivo\n",
    "        filepath = os.path.join(diretorio, filename)\n",
    "        \n",
    "        # Carregando o arquivo CSV em um DataFrame\n",
    "        df = pd.read_csv(filepath, delimiter=';', header=0)\n",
    "        \n",
    "        # Removendo as colunas especificadas\n",
    "        colunas_para_remover = [\"Região\", \"Cidade\", \"Como Comprou Contratou\", \"Respondida\", \"Segmento de Mercado\", \"Área\"]\n",
    "        df = df.drop(colunas_para_remover, axis=1)\n",
    "        \n",
    "        # Filtrando as linhas com 'Uber' na coluna 'Nome Fantasia'\n",
    "        df = df.loc[df['Nome Fantasia'] == 'Uber']\n",
    "        \n",
    "        # Filtrando as linhas com 'Avaliação Reclamação' diferente de 'Não Avaliada'\n",
    "        df = df.loc[df['Avaliação Reclamação'] != 'Não Avaliada']\n",
    "        \n",
    "        # Removendo linhas que contenham algum valor em branco em qualquer coluna\n",
    "        df = df.dropna(how='any')\n",
    "        \n",
    "        # Adicionando o DataFrame à lista\n",
    "        dataframes.append(df)"
   ]
  },
  {
   "cell_type": "code",
   "execution_count": 12,
   "id": "c255ee0d",
   "metadata": {},
   "outputs": [
    {
     "data": {
      "text/plain": [
       "Index(['UF', 'Sexo', 'Faixa Etária', 'Data Finalização', 'Tempo Resposta',\n",
       "       'Nome Fantasia', 'Assunto', 'Grupo Problema', 'Problema',\n",
       "       'Procurou Empresa', 'Situação', 'Avaliação Reclamação',\n",
       "       'Nota do Consumidor'],\n",
       "      dtype='object')"
      ]
     },
     "execution_count": 12,
     "metadata": {},
     "output_type": "execute_result"
    }
   ],
   "source": [
    "dados_completos.columns"
   ]
  },
  {
   "cell_type": "markdown",
   "id": "7dd17bd2",
   "metadata": {},
   "source": [
    "# Teste 1\n",
    "### Total de reclamações // card"
   ]
  },
  {
   "cell_type": "code",
   "execution_count": 5,
   "id": "b1a5900d",
   "metadata": {},
   "outputs": [
    {
     "name": "stdout",
     "output_type": "stream",
     "text": [
      "O total de reclamações no conjunto de dados é: 8281\n"
     ]
    }
   ],
   "source": [
    "# Concatenando todos os DataFrames em um único DataFrame\n",
    "dados_completos = pd.concat(dataframes, ignore_index=True)\n",
    "\n",
    "# Contagem do total de reclamações\n",
    "total_reclamacoes = dados_completos.shape[0]\n",
    "\n",
    "# Exibindo o resultado\n",
    "print(f\"O total de reclamações no conjunto de dados é: {total_reclamacoes}\")\n"
   ]
  },
  {
   "cell_type": "markdown",
   "id": "0cdca709",
   "metadata": {},
   "source": [
    "# Teste 2\n",
    "### Total de reclamações por período // card, segmentação de dados"
   ]
  },
  {
   "cell_type": "code",
   "execution_count": 11,
   "id": "4b610e8e",
   "metadata": {},
   "outputs": [
    {
     "name": "stdout",
     "output_type": "stream",
     "text": [
      "O total de reclamações no primeiro semestre de 2023 é: 1861\n"
     ]
    }
   ],
   "source": [
    "# Convertendo a coluna 'Data Finalização' para o formato de data\n",
    "dados_completos['Data Finalização'] = pd.to_datetime(dados_completos['Data Finalização'], format='%d/%m/%Y', errors='coerce')\n",
    "\n",
    "# Filtrando apenas os registros do primeiro semestre de 2023\n",
    "dados_primeiro_semestre_2023 = dados_completos[(dados_completos['Data Finalização'].dt.year == 2023) & \n",
    "                                               (dados_completos['Data Finalização'].dt.month <= 6)]\n",
    "\n",
    "# Contagem do total de reclamações no primeiro semestre de 2023\n",
    "total_reclamacoes_primeiro_semestre_2023 = dados_primeiro_semestre_2023.shape[0]\n",
    "\n",
    "# Exibindo o resultado\n",
    "print(f\"O total de reclamações no primeiro semestre de 2023 é: {total_reclamacoes_primeiro_semestre_2023}\")\n"
   ]
  },
  {
   "cell_type": "markdown",
   "id": "8c1e65b9",
   "metadata": {},
   "source": [
    "# Teste 3\n",
    "### Nota média // velocímetro\n"
   ]
  },
  {
   "cell_type": "code",
   "execution_count": 13,
   "id": "16583091",
   "metadata": {},
   "outputs": [
    {
     "name": "stdout",
     "output_type": "stream",
     "text": [
      "A nota média dos consumidores em toda a base de dados é: 2.38\n"
     ]
    }
   ],
   "source": [
    "# Calculando a média dos valores da coluna 'Nota do Consumidor'\n",
    "nota_media = dados_completos['Nota do Consumidor'].mean()\n",
    "\n",
    "# Exibindo o resultado formatado como '0,00'\n",
    "print(f\"A nota média dos consumidores em toda a base de dados é: {nota_media:.2f}\")\n"
   ]
  },
  {
   "cell_type": "markdown",
   "id": "b531f39a",
   "metadata": {},
   "source": [
    "# Teste 4\n",
    "### Tempo médio de resposta // velocímetro\n"
   ]
  },
  {
   "cell_type": "code",
   "execution_count": 14,
   "id": "f8b9ba7f",
   "metadata": {},
   "outputs": [
    {
     "name": "stdout",
     "output_type": "stream",
     "text": [
      "O tempo médio de resposta é: 7.40 dias\n"
     ]
    }
   ],
   "source": [
    "# Calculando a média dos valores da coluna 'Tempo Resposta'\n",
    "tempo_medio_resposta = dados_completos['Tempo Resposta'].mean()\n",
    "\n",
    "# Exibindo o resultado formatado como '0,00'\n",
    "print(f\"O tempo médio de resposta é: {tempo_medio_resposta:.2f} dias\")\n"
   ]
  },
  {
   "cell_type": "markdown",
   "id": "1f5add2a",
   "metadata": {},
   "source": [
    "# Teste 5\n",
    "### Reclamações com contato prévio // Treemap\n"
   ]
  },
  {
   "cell_type": "code",
   "execution_count": 15,
   "id": "b04d5b23",
   "metadata": {},
   "outputs": [
    {
     "name": "stdout",
     "output_type": "stream",
     "text": [
      "Procurou Empresa\n",
      "N     618\n",
      "S    7663\n",
      "dtype: int64\n"
     ]
    }
   ],
   "source": [
    "# Contando o total de registros do período, segmentado por 'Procurou Empresa'\n",
    "contagem_por_procurou_empresa = dados_completos.groupby('Procurou Empresa').size()\n",
    "\n",
    "# Exibindo o resultado\n",
    "print(contagem_por_procurou_empresa)\n"
   ]
  },
  {
   "cell_type": "markdown",
   "id": "f67022a5",
   "metadata": {},
   "source": [
    "# Teste 6\n",
    "### Top n reclamações por grupo problema // barras empilhadas\n"
   ]
  },
  {
   "cell_type": "code",
   "execution_count": 16,
   "id": "f5b73c7a",
   "metadata": {},
   "outputs": [
    {
     "name": "stdout",
     "output_type": "stream",
     "text": [
      "Grupo Problema\n",
      "Cobrança / Contestação    5035\n",
      "Vício de Qualidade        1019\n",
      "Atendimento / SAC          810\n",
      "dtype: int64\n"
     ]
    }
   ],
   "source": [
    "# Contando o total de registros, segmentado por 'Grupo Problema' e exibindo os três maiores\n",
    "contagem_por_grupo_problema = dados_completos.groupby('Grupo Problema').size().nlargest(3)\n",
    "\n",
    "# Exibindo o resultado\n",
    "print(contagem_por_grupo_problema)\n"
   ]
  },
  {
   "cell_type": "markdown",
   "id": "bc807a3b",
   "metadata": {},
   "source": [
    "# Teste 7\n",
    "### Total de reclamações segmentada por avaliação e ano // gráfico de área\n"
   ]
  },
  {
   "cell_type": "code",
   "execution_count": 17,
   "id": "05bd8c63",
   "metadata": {},
   "outputs": [
    {
     "name": "stdout",
     "output_type": "stream",
     "text": [
      "Avaliação Reclamação  Ano \n",
      "Não Resolvida         2021    1558\n",
      "                      2022    1802\n",
      "                      2023    1025\n",
      "Resolvida             2021    1457\n",
      "                      2022    1603\n",
      "                      2023     836\n",
      "dtype: int64\n"
     ]
    }
   ],
   "source": [
    "# Convertendo a coluna 'Data Finalização' para o formato de data\n",
    "dados_completos['Data Finalização'] = pd.to_datetime(dados_completos['Data Finalização'], errors='coerce')\n",
    "\n",
    "# Criando uma nova coluna para armazenar o ano da data de finalização\n",
    "dados_completos['Ano'] = dados_completos['Data Finalização'].dt.year\n",
    "\n",
    "# Contando o total de registros, segmentado por 'Avaliação Reclamação' e agrupado por ano\n",
    "contagem_por_avaliacao_ano = dados_completos.groupby(['Avaliação Reclamação', 'Ano']).size()\n",
    "\n",
    "# Exibindo o resultado\n",
    "print(contagem_por_avaliacao_ano)\n"
   ]
  },
  {
   "cell_type": "markdown",
   "id": "ec21eb28",
   "metadata": {},
   "source": [
    "# Teste 8\n",
    "### Índice resolvidas // gráfico de pizza\n"
   ]
  },
  {
   "cell_type": "code",
   "execution_count": 18,
   "id": "2ff17fdd",
   "metadata": {},
   "outputs": [
    {
     "name": "stdout",
     "output_type": "stream",
     "text": [
      "Não Resolvida    52.95\n",
      "Resolvida        47.05\n",
      "Name: Avaliação Reclamação, dtype: float64\n"
     ]
    }
   ],
   "source": [
    "# Calculando a porcentagem do total de registros por 'Avaliação Reclamação'\n",
    "porcentagem_por_avaliacao = (dados_completos['Avaliação Reclamação'].value_counts(normalize=True) * 100).round(2)\n",
    "\n",
    "# Exibindo o resultado\n",
    "print(porcentagem_por_avaliacao)\n"
   ]
  },
  {
   "cell_type": "markdown",
   "id": "790da951",
   "metadata": {},
   "source": [
    "# Teste 9\n",
    "### Nota média por assunto // treemap\n"
   ]
  },
  {
   "cell_type": "code",
   "execution_count": 20,
   "id": "b77759fb",
   "metadata": {},
   "outputs": [
    {
     "name": "stdout",
     "output_type": "stream",
     "text": [
      "Assunto\n",
      "Aplicativo de mobilidade urbana    2.41\n",
      "Serviços de entrega / delivery     2.28\n",
      "Name: Nota do Consumidor, dtype: float64\n"
     ]
    }
   ],
   "source": [
    "# Calculando a média da nota do consumidor por assunto\n",
    "media_por_assunto = dados_completos.groupby('Assunto')['Nota do Consumidor'].mean()\n",
    "\n",
    "# Exibindo o resultado formatado com duas casas decimais\n",
    "print(media_por_assunto.round(2))\n"
   ]
  },
  {
   "cell_type": "markdown",
   "id": "e19e4b9e",
   "metadata": {},
   "source": [
    "# Teste 10\n",
    "### Total de reclamações 30 dias // card\n"
   ]
  },
  {
   "cell_type": "code",
   "execution_count": 30,
   "id": "b7feff2d",
   "metadata": {},
   "outputs": [
    {
     "name": "stdout",
     "output_type": "stream",
     "text": [
      "Total de registros nos últimos 30 dias: 285\n"
     ]
    }
   ],
   "source": [
    "# Calculando a data correspondente aos últimos 30 dias a partir da data mais recente\n",
    "data_mais_recente = pd.to_datetime(dados_completos['Data Finalização']).max()\n",
    "data_limite = data_mais_recente - pd.DateOffset(days=30)\n",
    "\n",
    "# Filtrando os registros dos últimos 30 dias\n",
    "dados_ultimos_30_dias = dados_completos[dados_completos['Data Finalização'] >= data_limite]\n",
    "\n",
    "# Calculando a contagem total de registros\n",
    "contagem_total_registros = len(dados_ultimos_30_dias)\n",
    "\n",
    "# Exibindo o resultado\n",
    "print(f\"Total de registros nos últimos 30 dias: {contagem_total_registros}\")"
   ]
  },
  {
   "cell_type": "markdown",
   "id": "e6699cfe",
   "metadata": {},
   "source": [
    "# Teste 11\n",
    "### Nota média 30 dias // kpi\n"
   ]
  },
  {
   "cell_type": "code",
   "execution_count": 37,
   "id": "fe4fee67",
   "metadata": {},
   "outputs": [
    {
     "name": "stdout",
     "output_type": "stream",
     "text": [
      "Nota média nos últimos 30 dias: 2.33\n"
     ]
    }
   ],
   "source": [
    "# Calculando a data correspondente aos últimos 30 dias a partir da data mais recente\n",
    "data_mais_recente = pd.to_datetime(dados_completos['Data Finalização']).max()\n",
    "data_limite = data_mais_recente - pd.DateOffset(days=30)\n",
    "\n",
    "# Filtrando os registros dos últimos 30 dias\n",
    "dados_ultimos_30_dias = dados_completos[dados_completos['Data Finalização'] >= data_limite]\n",
    "\n",
    "# Calculando a nota média dos últimos 30 dias\n",
    "nota_media_ultimos_30_dias = dados_ultimos_30_dias['Nota do Consumidor'].mean()\n",
    "\n",
    "# Exibindo o resultado\n",
    "print(f\"Nota média nos últimos 30 dias: {nota_media_ultimos_30_dias:.2f}\")\n",
    "\n"
   ]
  },
  {
   "cell_type": "markdown",
   "id": "1b13e2b8",
   "metadata": {},
   "source": [
    "# Teste 12\n",
    "### Tempo médio 30 dias // kpi\n"
   ]
  },
  {
   "cell_type": "code",
   "execution_count": 38,
   "id": "033e1392",
   "metadata": {},
   "outputs": [
    {
     "name": "stdout",
     "output_type": "stream",
     "text": [
      "Tempo médio de resposta nos últimos 30 dias: 7.20 dias\n"
     ]
    }
   ],
   "source": [
    "# Calculando a data correspondente aos últimos 30 dias a partir da data mais recente\n",
    "data_mais_recente = pd.to_datetime(dados_completos['Data Finalização']).max()\n",
    "data_limite = data_mais_recente - pd.DateOffset(days=30)\n",
    "\n",
    "# Filtrando os registros dos últimos 30 dias\n",
    "dados_ultimos_30_dias = dados_completos[dados_completos['Data Finalização'] >= data_limite]\n",
    "\n",
    "# Calculando o tempo médio dos últimos 30 dias\n",
    "tempo_medio_ultimos_30_dias = dados_ultimos_30_dias['Tempo Resposta'].mean()\n",
    "\n",
    "# Exibindo o resultado\n",
    "print(f\"Tempo médio de resposta nos últimos 30 dias: {tempo_medio_ultimos_30_dias:.2f} dias\")\n"
   ]
  },
  {
   "cell_type": "markdown",
   "id": "ceb8b5cf",
   "metadata": {},
   "source": [
    "# Teste 13\n",
    "### Avaliação da reclamação 30 dias // rosca"
   ]
  },
  {
   "cell_type": "code",
   "execution_count": 39,
   "id": "9ccd80ae",
   "metadata": {},
   "outputs": [
    {
     "name": "stdout",
     "output_type": "stream",
     "text": [
      "Não Resolvida: 151 (52.98%)\n",
      "Resolvida: 134 (47.02%)\n"
     ]
    }
   ],
   "source": [
    "# Calculando a data correspondente aos últimos 30 dias a partir da data mais recente\n",
    "data_mais_recente = pd.to_datetime(dados_completos['Data Finalização']).max()\n",
    "data_limite = data_mais_recente - pd.DateOffset(days=30)\n",
    "\n",
    "# Filtrando os registros dos últimos 30 dias\n",
    "dados_ultimos_30_dias = dados_completos[dados_completos['Data Finalização'] >= data_limite]\n",
    "\n",
    "# Contando os registros dos últimos 30 dias, segmentados pela avaliação da reclamação\n",
    "contagem_por_avaliacao = dados_ultimos_30_dias['Avaliação Reclamação'].value_counts()\n",
    "\n",
    "# Exibindo os resultados no formato 000 (00,00%)\n",
    "for avaliacao, contagem in contagem_por_avaliacao.items():\n",
    "    percentual = (contagem / dados_ultimos_30_dias.shape[0]) * 100\n",
    "    print(f\"{avaliacao}: {contagem:03d} ({percentual:.2f}%)\")\n"
   ]
  },
  {
   "cell_type": "markdown",
   "id": "d30a0942",
   "metadata": {},
   "source": [
    "# Teste 14\n",
    "### Avaliação por faixa etária 30 dias // colunas empilhadas"
   ]
  },
  {
   "cell_type": "code",
   "execution_count": 47,
   "id": "d2fac196",
   "metadata": {},
   "outputs": [
    {
     "name": "stdout",
     "output_type": "stream",
     "text": [
      "Faixa Etária\n",
      "até 20 anos             2\n",
      "entre 21 a 30 anos     87\n",
      "entre 31 a 40 anos    117\n",
      "entre 41 a 50 anos     54\n",
      "entre 51 a 60 anos     17\n",
      "entre 61 a 70 anos      7\n",
      "mais de 70 anos         1\n",
      "dtype: int64\n",
      "Total de registros: 285\n"
     ]
    }
   ],
   "source": [
    "# Calculando a data mais recente\n",
    "data_mais_recente = dados_completos['Data Finalização'].max()\n",
    "\n",
    "# Calculando a data correspondente aos últimos 30 dias a partir da data mais recente\n",
    "data_limite = data_mais_recente - pd.DateOffset(days=30)\n",
    "\n",
    "# Filtrando os registros dos últimos 30 dias\n",
    "dados_ultimos_30_dias = dados_completos[dados_completos['Data Finalização'] >= data_limite]\n",
    "\n",
    "# Agrupando por faixa etária e contando os registros\n",
    "contagem_por_faixa_etaria = dados_ultimos_30_dias.groupby('Faixa Etária').size()\n",
    "\n",
    "# Exibindo o resultado\n",
    "print(contagem_por_faixa_etaria)\n",
    "print(f\"Total de registros: {dados_ultimos_30_dias.shape[0]}\")"
   ]
  },
  {
   "cell_type": "code",
   "execution_count": null,
   "id": "8bc85a1f",
   "metadata": {},
   "outputs": [],
   "source": []
  }
 ],
 "metadata": {
  "kernelspec": {
   "display_name": "Python 3 (ipykernel)",
   "language": "python",
   "name": "python3"
  },
  "language_info": {
   "codemirror_mode": {
    "name": "ipython",
    "version": 3
   },
   "file_extension": ".py",
   "mimetype": "text/x-python",
   "name": "python",
   "nbconvert_exporter": "python",
   "pygments_lexer": "ipython3",
   "version": "3.10.9"
  }
 },
 "nbformat": 4,
 "nbformat_minor": 5
}
